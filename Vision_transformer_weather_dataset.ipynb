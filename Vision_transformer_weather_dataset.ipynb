{
  "nbformat": 4,
  "nbformat_minor": 0,
  "metadata": {
    "colab": {
      "name": "Vision_transformer_weather_dataset.ipynb",
      "provenance": [],
      "authorship_tag": "ABX9TyPCrYru3a7A1hFedOdARIO9",
      "include_colab_link": true
    },
    "kernelspec": {
      "name": "python3",
      "display_name": "Python 3"
    },
    "language_info": {
      "name": "python"
    },
    "accelerator": "GPU"
  },
  "cells": [
    {
      "cell_type": "markdown",
      "metadata": {
        "id": "view-in-github",
        "colab_type": "text"
      },
      "source": [
        "<a href=\"https://colab.research.google.com/github/ayyucedemirbas/Vision_Transformer/blob/main/Vision_transformer_weather_dataset.ipynb\" target=\"_parent\"><img src=\"https://colab.research.google.com/assets/colab-badge.svg\" alt=\"Open In Colab\"/></a>"
      ]
    },
    {
      "cell_type": "code",
      "metadata": {
        "colab": {
          "base_uri": "https://localhost:8080/"
        },
        "id": "tJogooTbnRAR",
        "outputId": "4dd38f4c-8b1d-43f8-bf15-98f9185f99c4"
      },
      "source": [
        "!pip install -U tensorflow-addons"
      ],
      "execution_count": 1,
      "outputs": [
        {
          "output_type": "stream",
          "name": "stdout",
          "text": [
            "Collecting tensorflow-addons\n",
            "  Downloading tensorflow_addons-0.14.0-cp37-cp37m-manylinux_2_12_x86_64.manylinux2010_x86_64.whl (1.1 MB)\n",
            "\u001b[?25l\r\u001b[K     |▎                               | 10 kB 20.5 MB/s eta 0:00:01\r\u001b[K     |▋                               | 20 kB 25.0 MB/s eta 0:00:01\r\u001b[K     |▉                               | 30 kB 13.3 MB/s eta 0:00:01\r\u001b[K     |█▏                              | 40 kB 10.0 MB/s eta 0:00:01\r\u001b[K     |█▌                              | 51 kB 4.4 MB/s eta 0:00:01\r\u001b[K     |█▊                              | 61 kB 4.6 MB/s eta 0:00:01\r\u001b[K     |██                              | 71 kB 5.1 MB/s eta 0:00:01\r\u001b[K     |██▍                             | 81 kB 4.9 MB/s eta 0:00:01\r\u001b[K     |██▋                             | 92 kB 4.8 MB/s eta 0:00:01\r\u001b[K     |███                             | 102 kB 5.3 MB/s eta 0:00:01\r\u001b[K     |███▎                            | 112 kB 5.3 MB/s eta 0:00:01\r\u001b[K     |███▌                            | 122 kB 5.3 MB/s eta 0:00:01\r\u001b[K     |███▉                            | 133 kB 5.3 MB/s eta 0:00:01\r\u001b[K     |████▏                           | 143 kB 5.3 MB/s eta 0:00:01\r\u001b[K     |████▍                           | 153 kB 5.3 MB/s eta 0:00:01\r\u001b[K     |████▊                           | 163 kB 5.3 MB/s eta 0:00:01\r\u001b[K     |█████                           | 174 kB 5.3 MB/s eta 0:00:01\r\u001b[K     |█████▎                          | 184 kB 5.3 MB/s eta 0:00:01\r\u001b[K     |█████▋                          | 194 kB 5.3 MB/s eta 0:00:01\r\u001b[K     |██████                          | 204 kB 5.3 MB/s eta 0:00:01\r\u001b[K     |██████▏                         | 215 kB 5.3 MB/s eta 0:00:01\r\u001b[K     |██████▌                         | 225 kB 5.3 MB/s eta 0:00:01\r\u001b[K     |██████▉                         | 235 kB 5.3 MB/s eta 0:00:01\r\u001b[K     |███████                         | 245 kB 5.3 MB/s eta 0:00:01\r\u001b[K     |███████▍                        | 256 kB 5.3 MB/s eta 0:00:01\r\u001b[K     |███████▊                        | 266 kB 5.3 MB/s eta 0:00:01\r\u001b[K     |████████                        | 276 kB 5.3 MB/s eta 0:00:01\r\u001b[K     |████████▎                       | 286 kB 5.3 MB/s eta 0:00:01\r\u001b[K     |████████▋                       | 296 kB 5.3 MB/s eta 0:00:01\r\u001b[K     |████████▉                       | 307 kB 5.3 MB/s eta 0:00:01\r\u001b[K     |█████████▏                      | 317 kB 5.3 MB/s eta 0:00:01\r\u001b[K     |█████████▌                      | 327 kB 5.3 MB/s eta 0:00:01\r\u001b[K     |█████████▊                      | 337 kB 5.3 MB/s eta 0:00:01\r\u001b[K     |██████████                      | 348 kB 5.3 MB/s eta 0:00:01\r\u001b[K     |██████████▍                     | 358 kB 5.3 MB/s eta 0:00:01\r\u001b[K     |██████████▋                     | 368 kB 5.3 MB/s eta 0:00:01\r\u001b[K     |███████████                     | 378 kB 5.3 MB/s eta 0:00:01\r\u001b[K     |███████████▎                    | 389 kB 5.3 MB/s eta 0:00:01\r\u001b[K     |███████████▌                    | 399 kB 5.3 MB/s eta 0:00:01\r\u001b[K     |███████████▉                    | 409 kB 5.3 MB/s eta 0:00:01\r\u001b[K     |████████████▏                   | 419 kB 5.3 MB/s eta 0:00:01\r\u001b[K     |████████████▍                   | 430 kB 5.3 MB/s eta 0:00:01\r\u001b[K     |████████████▊                   | 440 kB 5.3 MB/s eta 0:00:01\r\u001b[K     |█████████████                   | 450 kB 5.3 MB/s eta 0:00:01\r\u001b[K     |█████████████▎                  | 460 kB 5.3 MB/s eta 0:00:01\r\u001b[K     |█████████████▋                  | 471 kB 5.3 MB/s eta 0:00:01\r\u001b[K     |██████████████                  | 481 kB 5.3 MB/s eta 0:00:01\r\u001b[K     |██████████████▏                 | 491 kB 5.3 MB/s eta 0:00:01\r\u001b[K     |██████████████▌                 | 501 kB 5.3 MB/s eta 0:00:01\r\u001b[K     |██████████████▉                 | 512 kB 5.3 MB/s eta 0:00:01\r\u001b[K     |███████████████                 | 522 kB 5.3 MB/s eta 0:00:01\r\u001b[K     |███████████████▍                | 532 kB 5.3 MB/s eta 0:00:01\r\u001b[K     |███████████████▊                | 542 kB 5.3 MB/s eta 0:00:01\r\u001b[K     |████████████████                | 552 kB 5.3 MB/s eta 0:00:01\r\u001b[K     |████████████████▎               | 563 kB 5.3 MB/s eta 0:00:01\r\u001b[K     |████████████████▋               | 573 kB 5.3 MB/s eta 0:00:01\r\u001b[K     |████████████████▉               | 583 kB 5.3 MB/s eta 0:00:01\r\u001b[K     |█████████████████▏              | 593 kB 5.3 MB/s eta 0:00:01\r\u001b[K     |█████████████████▌              | 604 kB 5.3 MB/s eta 0:00:01\r\u001b[K     |█████████████████▊              | 614 kB 5.3 MB/s eta 0:00:01\r\u001b[K     |██████████████████              | 624 kB 5.3 MB/s eta 0:00:01\r\u001b[K     |██████████████████▍             | 634 kB 5.3 MB/s eta 0:00:01\r\u001b[K     |██████████████████▋             | 645 kB 5.3 MB/s eta 0:00:01\r\u001b[K     |███████████████████             | 655 kB 5.3 MB/s eta 0:00:01\r\u001b[K     |███████████████████▎            | 665 kB 5.3 MB/s eta 0:00:01\r\u001b[K     |███████████████████▌            | 675 kB 5.3 MB/s eta 0:00:01\r\u001b[K     |███████████████████▉            | 686 kB 5.3 MB/s eta 0:00:01\r\u001b[K     |████████████████████▏           | 696 kB 5.3 MB/s eta 0:00:01\r\u001b[K     |████████████████████▍           | 706 kB 5.3 MB/s eta 0:00:01\r\u001b[K     |████████████████████▊           | 716 kB 5.3 MB/s eta 0:00:01\r\u001b[K     |█████████████████████           | 727 kB 5.3 MB/s eta 0:00:01\r\u001b[K     |█████████████████████▎          | 737 kB 5.3 MB/s eta 0:00:01\r\u001b[K     |█████████████████████▋          | 747 kB 5.3 MB/s eta 0:00:01\r\u001b[K     |██████████████████████          | 757 kB 5.3 MB/s eta 0:00:01\r\u001b[K     |██████████████████████▏         | 768 kB 5.3 MB/s eta 0:00:01\r\u001b[K     |██████████████████████▌         | 778 kB 5.3 MB/s eta 0:00:01\r\u001b[K     |██████████████████████▉         | 788 kB 5.3 MB/s eta 0:00:01\r\u001b[K     |███████████████████████         | 798 kB 5.3 MB/s eta 0:00:01\r\u001b[K     |███████████████████████▍        | 808 kB 5.3 MB/s eta 0:00:01\r\u001b[K     |███████████████████████▊        | 819 kB 5.3 MB/s eta 0:00:01\r\u001b[K     |████████████████████████        | 829 kB 5.3 MB/s eta 0:00:01\r\u001b[K     |████████████████████████▎       | 839 kB 5.3 MB/s eta 0:00:01\r\u001b[K     |████████████████████████▋       | 849 kB 5.3 MB/s eta 0:00:01\r\u001b[K     |████████████████████████▉       | 860 kB 5.3 MB/s eta 0:00:01\r\u001b[K     |█████████████████████████▏      | 870 kB 5.3 MB/s eta 0:00:01\r\u001b[K     |█████████████████████████▍      | 880 kB 5.3 MB/s eta 0:00:01\r\u001b[K     |█████████████████████████▊      | 890 kB 5.3 MB/s eta 0:00:01\r\u001b[K     |██████████████████████████      | 901 kB 5.3 MB/s eta 0:00:01\r\u001b[K     |██████████████████████████▎     | 911 kB 5.3 MB/s eta 0:00:01\r\u001b[K     |██████████████████████████▋     | 921 kB 5.3 MB/s eta 0:00:01\r\u001b[K     |███████████████████████████     | 931 kB 5.3 MB/s eta 0:00:01\r\u001b[K     |███████████████████████████▏    | 942 kB 5.3 MB/s eta 0:00:01\r\u001b[K     |███████████████████████████▌    | 952 kB 5.3 MB/s eta 0:00:01\r\u001b[K     |███████████████████████████▉    | 962 kB 5.3 MB/s eta 0:00:01\r\u001b[K     |████████████████████████████    | 972 kB 5.3 MB/s eta 0:00:01\r\u001b[K     |████████████████████████████▍   | 983 kB 5.3 MB/s eta 0:00:01\r\u001b[K     |████████████████████████████▊   | 993 kB 5.3 MB/s eta 0:00:01\r\u001b[K     |█████████████████████████████   | 1.0 MB 5.3 MB/s eta 0:00:01\r\u001b[K     |█████████████████████████████▎  | 1.0 MB 5.3 MB/s eta 0:00:01\r\u001b[K     |█████████████████████████████▋  | 1.0 MB 5.3 MB/s eta 0:00:01\r\u001b[K     |█████████████████████████████▉  | 1.0 MB 5.3 MB/s eta 0:00:01\r\u001b[K     |██████████████████████████████▏ | 1.0 MB 5.3 MB/s eta 0:00:01\r\u001b[K     |██████████████████████████████▌ | 1.1 MB 5.3 MB/s eta 0:00:01\r\u001b[K     |██████████████████████████████▊ | 1.1 MB 5.3 MB/s eta 0:00:01\r\u001b[K     |███████████████████████████████ | 1.1 MB 5.3 MB/s eta 0:00:01\r\u001b[K     |███████████████████████████████▍| 1.1 MB 5.3 MB/s eta 0:00:01\r\u001b[K     |███████████████████████████████▋| 1.1 MB 5.3 MB/s eta 0:00:01\r\u001b[K     |████████████████████████████████| 1.1 MB 5.3 MB/s eta 0:00:01\r\u001b[K     |████████████████████████████████| 1.1 MB 5.3 MB/s \n",
            "\u001b[?25hRequirement already satisfied: typeguard>=2.7 in /usr/local/lib/python3.7/dist-packages (from tensorflow-addons) (2.7.1)\n",
            "Installing collected packages: tensorflow-addons\n",
            "Successfully installed tensorflow-addons-0.14.0\n"
          ]
        }
      ]
    },
    {
      "cell_type": "code",
      "metadata": {
        "colab": {
          "base_uri": "https://localhost:8080/"
        },
        "id": "Vz_xjHxxnXpZ",
        "outputId": "3de6cff2-bb3d-4af7-a6d5-c338a0278077"
      },
      "source": [
        "from google.colab import drive\n",
        "drive.mount('/content/drive')"
      ],
      "execution_count": 2,
      "outputs": [
        {
          "output_type": "stream",
          "name": "stdout",
          "text": [
            "Mounted at /content/drive\n"
          ]
        }
      ]
    },
    {
      "cell_type": "code",
      "metadata": {
        "id": "V4f4SsT_nhYh"
      },
      "source": [
        "import tensorflow as tf\n",
        "from tensorflow import keras\n",
        "from tensorflow.keras import layers\n",
        "from tensorflow.keras.models import Sequential, load_model\n",
        "from tensorflow.keras.layers import Dense, Flatten, Conv2D, MaxPooling2D, Dropout\n",
        "from tensorflow.keras.callbacks import ModelCheckpoint, EarlyStopping\n",
        "from tensorflow.keras.preprocessing.image import ImageDataGenerator\n",
        "from tensorflow.keras.optimizers import Adam\n",
        "\n",
        "import tensorflow_addons as tfa\n",
        "from tensorflow.keras.utils import to_categorical\n",
        "from tensorflow.keras import regularizers\n",
        "import matplotlib.pyplot as plt\n",
        "import matplotlib.image as mpimg\n",
        "from keras.preprocessing import image\n",
        "import numpy as np\n",
        "import os\n",
        "import datetime\n",
        "%matplotlib inline\n"
      ],
      "execution_count": 3,
      "outputs": []
    },
    {
      "cell_type": "code",
      "metadata": {
        "colab": {
          "base_uri": "https://localhost:8080/"
        },
        "id": "GGes0TNXnoBi",
        "outputId": "fa0518f3-e1e2-42c3-fd94-6cbe633c621e"
      },
      "source": [
        "!ls -al /content/drive/MyDrive/weather"
      ],
      "execution_count": 5,
      "outputs": [
        {
          "output_type": "stream",
          "name": "stdout",
          "text": [
            "total 15\n",
            "-rw------- 1 root root 6148 Oct 15 19:55 .DS_Store\n",
            "drwx------ 2 root root 4096 Oct 15 19:59 test\n",
            "drwx------ 2 root root 4096 Oct 15 19:59 train\n"
          ]
        }
      ]
    },
    {
      "cell_type": "code",
      "metadata": {
        "id": "S8y7URy_n0Gv"
      },
      "source": [
        "imagePath = \"/content/drive/MyDrive/weather/train\"\n",
        "test_path=\"/content/drive/MyDrive/weather/test\""
      ],
      "execution_count": 6,
      "outputs": []
    },
    {
      "cell_type": "code",
      "metadata": {
        "colab": {
          "base_uri": "https://localhost:8080/"
        },
        "id": "FFLjMLStn8kP",
        "outputId": "f1381edb-187b-439f-e66c-3fa572d91cd2"
      },
      "source": [
        "batch_size=128\n",
        "img_height = 64\n",
        "img_width = 64\n",
        "\n",
        "train_ds = tf.keras.preprocessing.image_dataset_from_directory(\n",
        "  imagePath,\n",
        "  #color_mode='grayscale',\n",
        "  validation_split=0.2,\n",
        "  subset=\"training\",\n",
        "  seed=123,\n",
        "  image_size=(img_height, img_width),\n",
        "  batch_size=batch_size)"
      ],
      "execution_count": 7,
      "outputs": [
        {
          "output_type": "stream",
          "name": "stdout",
          "text": [
            "Found 960 files belonging to 4 classes.\n",
            "Using 768 files for training.\n"
          ]
        }
      ]
    },
    {
      "cell_type": "code",
      "metadata": {
        "colab": {
          "base_uri": "https://localhost:8080/"
        },
        "id": "S2zVKAQJoCtv",
        "outputId": "0bab86fa-34f7-46dc-f4e3-69b2e68e5173"
      },
      "source": [
        "val_ds = tf.keras.preprocessing.image_dataset_from_directory(\n",
        "  imagePath, \n",
        "  #color_mode='grayscale',\n",
        "  validation_split=0.2,\n",
        "  subset=\"validation\",\n",
        "  seed=123,\n",
        "  image_size=(img_height, img_width),\n",
        "  batch_size=batch_size)"
      ],
      "execution_count": 8,
      "outputs": [
        {
          "output_type": "stream",
          "name": "stdout",
          "text": [
            "Found 960 files belonging to 4 classes.\n",
            "Using 192 files for validation.\n"
          ]
        }
      ]
    },
    {
      "cell_type": "code",
      "metadata": {
        "colab": {
          "base_uri": "https://localhost:8080/"
        },
        "id": "sPMsxHrLoHZX",
        "outputId": "c73e2925-0b9f-486b-89ab-a90fdc87cd9d"
      },
      "source": [
        "test_ds = tf.keras.preprocessing.image_dataset_from_directory(\n",
        "  test_path,\n",
        "  seed=123,\n",
        "  image_size=(img_height, img_width),\n",
        "  batch_size=batch_size)"
      ],
      "execution_count": 9,
      "outputs": [
        {
          "output_type": "stream",
          "name": "stdout",
          "text": [
            "Found 179 files belonging to 4 classes.\n"
          ]
        }
      ]
    },
    {
      "cell_type": "code",
      "metadata": {
        "id": "eLNJOI2ZoKsK"
      },
      "source": [
        "x_train= tf.concat([x for x, y in train_ds], axis=0)\n",
        "y_train= tf.concat([y for x, y in train_ds], axis=0)\n",
        "x_test= tf.concat([x for x, y in test_ds], axis=0)\n",
        "y_test= tf.concat([y for x, y in test_ds], axis=0)"
      ],
      "execution_count": 10,
      "outputs": []
    },
    {
      "cell_type": "code",
      "metadata": {
        "id": "O8wlkVhwobls"
      },
      "source": [
        "learning_rate = 0.001\n",
        "weight_decay = 0.0001\n",
        "num_epochs = 100\n",
        "input_shape=(64, 64, 3)\n",
        "num_classes = 4\n",
        "image_size = 64  # We'll resize input images to this size\n",
        "patch_size = 6  # Size of the patches to be extract from the input images\n",
        "num_patches = (image_size // patch_size) ** 2\n",
        "projection_dim = 64\n",
        "num_heads = 4\n",
        "transformer_units = [\n",
        "    projection_dim * 2,\n",
        "    projection_dim,\n",
        "]  # Size of the transformer layers\n",
        "transformer_layers = 8\n",
        "mlp_head_units = [2048, 1024]  # Size of the dense layers of the final classifier"
      ],
      "execution_count": 12,
      "outputs": []
    },
    {
      "cell_type": "code",
      "metadata": {
        "colab": {
          "base_uri": "https://localhost:8080/"
        },
        "id": "mFp4rHHUolg1",
        "outputId": "49cf5889-6ae0-4aad-e061-e219e912a200"
      },
      "source": [
        "for image_batch, labels_batch in train_ds:\n",
        "  print(image_batch.shape)\n",
        "  print(labels_batch.shape)\n",
        "  break"
      ],
      "execution_count": 13,
      "outputs": [
        {
          "output_type": "stream",
          "name": "stdout",
          "text": [
            "(128, 64, 64, 3)\n",
            "(128,)\n"
          ]
        }
      ]
    },
    {
      "cell_type": "code",
      "metadata": {
        "id": "mejgUbN0oqnF"
      },
      "source": [
        "data_augmentation = keras.Sequential(\n",
        "    [\n",
        "        layers.Normalization(),\n",
        "        layers.Resizing(image_size, image_size),\n",
        "        layers.RandomFlip(\"horizontal\"),\n",
        "        layers.RandomRotation(factor=0.02),\n",
        "        layers.RandomZoom(\n",
        "            height_factor=0.2, width_factor=0.2\n",
        "        ),\n",
        "    ],\n",
        "    name=\"data_augmentation\",\n",
        ")\n",
        "# Compute the mean and the variance of the training data for normalization.\n",
        "data_augmentation.layers[0].adapt(x_train)"
      ],
      "execution_count": 14,
      "outputs": []
    },
    {
      "cell_type": "code",
      "metadata": {
        "id": "YZISLWQlouNc"
      },
      "source": [
        "def mlp(x, hidden_units, dropout_rate):\n",
        "    for units in hidden_units:\n",
        "        x = layers.Dense(units, activation=tf.nn.gelu)(x)\n",
        "        x = layers.Dropout(dropout_rate)(x)\n",
        "    return x"
      ],
      "execution_count": 15,
      "outputs": []
    },
    {
      "cell_type": "code",
      "metadata": {
        "id": "bcShCPj1owXy"
      },
      "source": [
        "class Patches(layers.Layer):\n",
        "    def __init__(self, patch_size):\n",
        "        super(Patches, self).__init__()\n",
        "        self.patch_size = patch_size\n",
        "\n",
        "    def call(self, images):\n",
        "        batch_size = tf.shape(images)[0]\n",
        "        patches = tf.image.extract_patches(\n",
        "            images=images,\n",
        "            sizes=[1, self.patch_size, self.patch_size, 1],\n",
        "            strides=[1, self.patch_size, self.patch_size, 1],\n",
        "            rates=[1, 1, 1, 1],\n",
        "            padding=\"VALID\",\n",
        "        )\n",
        "        patch_dims = patches.shape[-1]\n",
        "        patches = tf.reshape(patches, [batch_size, -1, patch_dims])\n",
        "        return patches"
      ],
      "execution_count": 16,
      "outputs": []
    },
    {
      "cell_type": "code",
      "metadata": {
        "colab": {
          "base_uri": "https://localhost:8080/",
          "height": 547
        },
        "id": "706Ls2idoyto",
        "outputId": "c19df187-ccd6-4705-e129-487410e60d4f"
      },
      "source": [
        "from tensorflow.python.ops.numpy_ops import np_config\n",
        "np_config.enable_numpy_behavior()\n",
        "plt.figure(figsize=(4, 4))\n",
        "image = x_train[np.random.choice(range(x_train.shape[0]))]\n",
        "plt.imshow(image.astype(\"uint8\"))\n",
        "plt.axis(\"off\")\n",
        "\n",
        "resized_image = tf.image.resize(\n",
        "    tf.convert_to_tensor([image]), size=(image_size, image_size)\n",
        ")\n",
        "patches = Patches(patch_size)(resized_image)\n",
        "print(f\"Image size: {image_size} X {image_size}\")\n",
        "print(f\"Patch size: {patch_size} X {patch_size}\")\n",
        "print(f\"Patches per image: {patches.shape[1]}\")\n",
        "print(f\"Elements per patch: {patches.shape[-1]}\")\n",
        "\n",
        "n = int(np.sqrt(patches.shape[1]))\n",
        "plt.figure(figsize=(4, 4))\n",
        "for i, patch in enumerate(patches[0]):\n",
        "    ax = plt.subplot(n, n, i + 1)\n",
        "    patch_img = tf.reshape(patch, (patch_size, patch_size, 3))\n",
        "    plt.imshow(patch_img.numpy().astype(\"uint8\"))\n",
        "    plt.axis(\"off\")"
      ],
      "execution_count": 17,
      "outputs": [
        {
          "output_type": "stream",
          "name": "stdout",
          "text": [
            "Image size: 64 X 64\n",
            "Patch size: 6 X 6\n",
            "Patches per image: 100\n",
            "Elements per patch: 108\n"
          ]
        },
        {
          "output_type": "display_data",
          "data": {
            "image/png": "[encoded data removed]",
            "text/plain": [
              "<Figure size 288x288 with 1 Axes>"
            ]
          },
          "metadata": {
            "needs_background": "light"
          }
        },
        {
          "output_type": "display_data",
          "data": {
            "image/png": "[encoded data removed]",
            "text/plain": [
              "<Figure size 288x288 with 100 Axes>"
            ]
          },
          "metadata": {
            "needs_background": "light"
          }
        }
      ]
    },
    {
      "cell_type": "code",
      "metadata": {
        "id": "swaMJDMNpP_N"
      },
      "source": [
        "class PatchEncoder(layers.Layer):\n",
        "    def __init__(self, num_patches, projection_dim):\n",
        "        super(PatchEncoder, self).__init__()\n",
        "        self.num_patches = num_patches\n",
        "        self.projection = layers.Dense(units=projection_dim)\n",
        "        self.position_embedding = layers.Embedding(\n",
        "            input_dim=num_patches, output_dim=projection_dim\n",
        "        )\n",
        "\n",
        "    def call(self, patch):\n",
        "        positions = tf.range(start=0, limit=self.num_patches, delta=1)\n",
        "        encoded = self.projection(patch) + self.position_embedding(positions)\n",
        "        return encoded"
      ],
      "execution_count": 18,
      "outputs": []
    },
    {
      "cell_type": "code",
      "metadata": {
        "id": "-Uyaz_wIpSq0"
      },
      "source": [
        "def create_vit_classifier():\n",
        "    inputs = layers.Input(shape=input_shape)\n",
        "    # Augment data.\n",
        "    augmented = data_augmentation(inputs)\n",
        "    # Create patches.\n",
        "    patches = Patches(patch_size)(augmented)\n",
        "    # Encode patches.\n",
        "    encoded_patches = PatchEncoder(num_patches, projection_dim)(patches)\n",
        "\n",
        "    # Create multiple layers of the Transformer block.\n",
        "    for _ in range(transformer_layers):\n",
        "        # Layer normalization 1.\n",
        "        x1 = layers.LayerNormalization(epsilon=1e-6)(encoded_patches)\n",
        "        # Create a multi-head attention layer.\n",
        "        attention_output = layers.MultiHeadAttention(\n",
        "            num_heads=num_heads, key_dim=projection_dim, dropout=0.1\n",
        "        )(x1, x1)\n",
        "        # Skip connection 1.\n",
        "        x2 = layers.Add()([attention_output, encoded_patches])\n",
        "        # Layer normalization 2.\n",
        "        x3 = layers.LayerNormalization(epsilon=1e-6)(x2)\n",
        "        # MLP.\n",
        "        x3 = mlp(x3, hidden_units=transformer_units, dropout_rate=0.1)\n",
        "        # Skip connection 2.\n",
        "        encoded_patches = layers.Add()([x3, x2])\n",
        "\n",
        "    # Create a [batch_size, projection_dim] tensor.\n",
        "    representation = layers.LayerNormalization(epsilon=1e-6)(encoded_patches)\n",
        "    representation = layers.Flatten()(representation)\n",
        "    representation = layers.Dropout(0.5)(representation)\n",
        "    # Add MLP.\n",
        "    features = mlp(representation, hidden_units=mlp_head_units, dropout_rate=0.5)\n",
        "    # Classify outputs.\n",
        "    logits = layers.Dense(num_classes)(features)\n",
        "    # Create the Keras model.\n",
        "    model = keras.Model(inputs=inputs, outputs=logits)\n",
        "    return model"
      ],
      "execution_count": 19,
      "outputs": []
    },
    {
      "cell_type": "code",
      "metadata": {
        "colab": {
          "base_uri": "https://localhost:8080/"
        },
        "id": "PpeLKO7jpZ9b",
        "outputId": "167d5600-5986-4a6d-a96d-212d0f7d3b97"
      },
      "source": [
        "def run_experiment(model):\n",
        "    optimizer = tfa.optimizers.AdamW(\n",
        "        learning_rate=learning_rate, weight_decay=weight_decay\n",
        "    )\n",
        "\n",
        "    model.compile(\n",
        "        optimizer=optimizer,\n",
        "        loss=keras.losses.SparseCategoricalCrossentropy(from_logits=True),\n",
        "        metrics=[\n",
        "            keras.metrics.SparseCategoricalAccuracy(name=\"accuracy\"),\n",
        "            keras.metrics.SparseTopKCategoricalAccuracy(5, name=\"top-5-accuracy\"),\n",
        "        ],\n",
        "    )\n",
        "\n",
        "    checkpoint_filepath = \"/tmp/checkpoint\"\n",
        "    checkpoint_callback = keras.callbacks.ModelCheckpoint(\n",
        "        checkpoint_filepath,\n",
        "        monitor=\"val_accuracy\",\n",
        "        save_best_only=True,\n",
        "        save_weights_only=True,\n",
        "    )\n",
        "\n",
        "    history = model.fit(\n",
        "        x=x_train,\n",
        "        y=y_train,\n",
        "        batch_size=batch_size,\n",
        "        epochs=num_epochs,\n",
        "        validation_split=0.1,\n",
        "        callbacks=[checkpoint_callback],\n",
        "    )\n",
        "\n",
        "    model.load_weights(checkpoint_filepath)\n",
        "    _, accuracy, top_5_accuracy = model.evaluate(x_test, y_test)\n",
        "    print(f\"Test accuracy: {round(accuracy * 100, 2)}%\")\n",
        "    print(f\"Test top 5 accuracy: {round(top_5_accuracy * 100, 2)}%\")\n",
        "\n",
        "    return history\n",
        "\n",
        "\n",
        "vit_classifier = create_vit_classifier()\n",
        "history = run_experiment(vit_classifier)"
      ],
      "execution_count": 20,
      "outputs": [
        {
          "output_type": "stream",
          "name": "stdout",
          "text": [
            "Epoch 1/100\n",
            "6/6 [==============================] - 17s 560ms/step - loss: 6.7337 - accuracy: 0.2634 - top-5-accuracy: 1.0000 - val_loss: 2.6604 - val_accuracy: 0.2468 - val_top-5-accuracy: 1.0000\n",
            "Epoch 2/100\n",
            "6/6 [==============================] - 2s 275ms/step - loss: 2.6819 - accuracy: 0.2648 - top-5-accuracy: 1.0000 - val_loss: 1.6503 - val_accuracy: 0.2468 - val_top-5-accuracy: 1.0000\n",
            "Epoch 3/100\n",
            "6/6 [==============================] - 2s 277ms/step - loss: 2.0675 - accuracy: 0.2808 - top-5-accuracy: 1.0000 - val_loss: 1.4968 - val_accuracy: 0.2338 - val_top-5-accuracy: 1.0000\n",
            "Epoch 4/100\n",
            "6/6 [==============================] - 2s 277ms/step - loss: 1.8867 - accuracy: 0.2663 - top-5-accuracy: 1.0000 - val_loss: 1.3906 - val_accuracy: 0.2857 - val_top-5-accuracy: 1.0000\n",
            "Epoch 5/100\n",
            "6/6 [==============================] - 2s 292ms/step - loss: 1.5934 - accuracy: 0.3068 - top-5-accuracy: 1.0000 - val_loss: 1.4094 - val_accuracy: 0.2338 - val_top-5-accuracy: 1.0000\n",
            "Epoch 6/100\n",
            "6/6 [==============================] - 2s 278ms/step - loss: 1.5643 - accuracy: 0.2793 - top-5-accuracy: 1.0000 - val_loss: 1.4085 - val_accuracy: 0.2338 - val_top-5-accuracy: 1.0000\n",
            "Epoch 7/100\n",
            "6/6 [==============================] - 2s 275ms/step - loss: 1.5456 - accuracy: 0.2750 - top-5-accuracy: 1.0000 - val_loss: 1.4185 - val_accuracy: 0.2597 - val_top-5-accuracy: 1.0000\n",
            "Epoch 8/100\n",
            "6/6 [==============================] - 2s 277ms/step - loss: 1.5319 - accuracy: 0.2923 - top-5-accuracy: 1.0000 - val_loss: 1.3906 - val_accuracy: 0.2857 - val_top-5-accuracy: 1.0000\n",
            "Epoch 9/100\n",
            "6/6 [==============================] - 2s 276ms/step - loss: 1.4698 - accuracy: 0.2952 - top-5-accuracy: 1.0000 - val_loss: 1.3933 - val_accuracy: 0.2597 - val_top-5-accuracy: 1.0000\n",
            "Epoch 10/100\n",
            "6/6 [==============================] - 2s 278ms/step - loss: 1.4258 - accuracy: 0.3271 - top-5-accuracy: 1.0000 - val_loss: 1.4035 - val_accuracy: 0.2208 - val_top-5-accuracy: 1.0000\n",
            "Epoch 11/100\n",
            "6/6 [==============================] - 2s 276ms/step - loss: 1.4484 - accuracy: 0.2909 - top-5-accuracy: 1.0000 - val_loss: 1.3907 - val_accuracy: 0.2727 - val_top-5-accuracy: 1.0000\n",
            "Epoch 12/100\n",
            "6/6 [==============================] - 2s 280ms/step - loss: 1.4239 - accuracy: 0.3025 - top-5-accuracy: 1.0000 - val_loss: 1.4083 - val_accuracy: 0.2597 - val_top-5-accuracy: 1.0000\n",
            "Epoch 13/100\n",
            "6/6 [==============================] - 2s 275ms/step - loss: 1.3871 - accuracy: 0.3329 - top-5-accuracy: 1.0000 - val_loss: 1.4018 - val_accuracy: 0.2597 - val_top-5-accuracy: 1.0000\n",
            "Epoch 14/100\n",
            "6/6 [==============================] - 2s 277ms/step - loss: 1.4005 - accuracy: 0.3082 - top-5-accuracy: 1.0000 - val_loss: 1.3956 - val_accuracy: 0.2468 - val_top-5-accuracy: 1.0000\n",
            "Epoch 15/100\n",
            "6/6 [==============================] - 2s 276ms/step - loss: 1.3913 - accuracy: 0.3300 - top-5-accuracy: 1.0000 - val_loss: 1.4161 - val_accuracy: 0.2338 - val_top-5-accuracy: 1.0000\n",
            "Epoch 16/100\n",
            "6/6 [==============================] - 2s 275ms/step - loss: 1.3952 - accuracy: 0.3140 - top-5-accuracy: 1.0000 - val_loss: 1.4161 - val_accuracy: 0.2727 - val_top-5-accuracy: 1.0000\n",
            "Epoch 17/100\n",
            "6/6 [==============================] - 2s 276ms/step - loss: 1.3913 - accuracy: 0.3169 - top-5-accuracy: 1.0000 - val_loss: 1.4231 - val_accuracy: 0.2727 - val_top-5-accuracy: 1.0000\n",
            "Epoch 18/100\n",
            "6/6 [==============================] - 2s 278ms/step - loss: 1.3941 - accuracy: 0.3343 - top-5-accuracy: 1.0000 - val_loss: 1.3932 - val_accuracy: 0.2987 - val_top-5-accuracy: 1.0000\n",
            "Epoch 19/100\n",
            "6/6 [==============================] - 2s 276ms/step - loss: 1.3839 - accuracy: 0.3010 - top-5-accuracy: 1.0000 - val_loss: 1.3821 - val_accuracy: 0.2987 - val_top-5-accuracy: 1.0000\n",
            "Epoch 20/100\n",
            "6/6 [==============================] - 2s 275ms/step - loss: 1.3951 - accuracy: 0.3010 - top-5-accuracy: 1.0000 - val_loss: 1.4042 - val_accuracy: 0.2987 - val_top-5-accuracy: 1.0000\n",
            "Epoch 21/100\n",
            "6/6 [==============================] - 2s 276ms/step - loss: 1.3808 - accuracy: 0.3097 - top-5-accuracy: 1.0000 - val_loss: 1.3833 - val_accuracy: 0.3506 - val_top-5-accuracy: 1.0000\n",
            "Epoch 22/100\n",
            "6/6 [==============================] - 2s 278ms/step - loss: 1.3978 - accuracy: 0.2967 - top-5-accuracy: 1.0000 - val_loss: 1.3879 - val_accuracy: 0.2468 - val_top-5-accuracy: 1.0000\n",
            "Epoch 23/100\n",
            "6/6 [==============================] - 2s 274ms/step - loss: 1.3402 - accuracy: 0.3488 - top-5-accuracy: 1.0000 - val_loss: 1.3818 - val_accuracy: 0.2857 - val_top-5-accuracy: 1.0000\n",
            "Epoch 24/100\n",
            "6/6 [==============================] - 2s 275ms/step - loss: 1.3627 - accuracy: 0.3372 - top-5-accuracy: 1.0000 - val_loss: 1.3815 - val_accuracy: 0.3247 - val_top-5-accuracy: 1.0000\n",
            "Epoch 25/100\n",
            "6/6 [==============================] - 2s 275ms/step - loss: 1.3630 - accuracy: 0.3343 - top-5-accuracy: 1.0000 - val_loss: 1.4004 - val_accuracy: 0.2727 - val_top-5-accuracy: 1.0000\n",
            "Epoch 26/100\n",
            "6/6 [==============================] - 2s 276ms/step - loss: 1.3510 - accuracy: 0.3415 - top-5-accuracy: 1.0000 - val_loss: 1.3992 - val_accuracy: 0.2857 - val_top-5-accuracy: 1.0000\n",
            "Epoch 27/100\n",
            "6/6 [==============================] - 2s 278ms/step - loss: 1.3400 - accuracy: 0.3603 - top-5-accuracy: 1.0000 - val_loss: 1.4099 - val_accuracy: 0.1948 - val_top-5-accuracy: 1.0000\n",
            "Epoch 28/100\n",
            "6/6 [==============================] - 2s 276ms/step - loss: 1.3746 - accuracy: 0.3285 - top-5-accuracy: 1.0000 - val_loss: 1.4175 - val_accuracy: 0.1948 - val_top-5-accuracy: 1.0000\n",
            "Epoch 29/100\n",
            "6/6 [==============================] - 2s 277ms/step - loss: 1.3582 - accuracy: 0.3473 - top-5-accuracy: 1.0000 - val_loss: 1.4318 - val_accuracy: 0.2338 - val_top-5-accuracy: 1.0000\n",
            "Epoch 30/100\n",
            "6/6 [==============================] - 2s 275ms/step - loss: 1.3638 - accuracy: 0.3300 - top-5-accuracy: 1.0000 - val_loss: 1.4141 - val_accuracy: 0.2468 - val_top-5-accuracy: 1.0000\n",
            "Epoch 31/100\n",
            "6/6 [==============================] - 2s 290ms/step - loss: 1.3200 - accuracy: 0.3748 - top-5-accuracy: 1.0000 - val_loss: 1.4347 - val_accuracy: 0.2597 - val_top-5-accuracy: 1.0000\n",
            "Epoch 32/100\n",
            "6/6 [==============================] - 2s 277ms/step - loss: 1.3346 - accuracy: 0.3473 - top-5-accuracy: 1.0000 - val_loss: 1.4256 - val_accuracy: 0.2987 - val_top-5-accuracy: 1.0000\n",
            "Epoch 33/100\n",
            "6/6 [==============================] - 2s 276ms/step - loss: 1.3660 - accuracy: 0.3227 - top-5-accuracy: 1.0000 - val_loss: 1.3938 - val_accuracy: 0.3377 - val_top-5-accuracy: 1.0000\n",
            "Epoch 34/100\n",
            "6/6 [==============================] - 2s 277ms/step - loss: 1.3841 - accuracy: 0.3140 - top-5-accuracy: 1.0000 - val_loss: 1.4076 - val_accuracy: 0.2468 - val_top-5-accuracy: 1.0000\n",
            "Epoch 35/100\n",
            "6/6 [==============================] - 2s 274ms/step - loss: 1.3416 - accuracy: 0.3357 - top-5-accuracy: 1.0000 - val_loss: 1.4137 - val_accuracy: 0.2208 - val_top-5-accuracy: 1.0000\n",
            "Epoch 36/100\n",
            "6/6 [==============================] - 2s 278ms/step - loss: 1.3314 - accuracy: 0.3531 - top-5-accuracy: 1.0000 - val_loss: 1.4360 - val_accuracy: 0.1948 - val_top-5-accuracy: 1.0000\n",
            "Epoch 37/100\n",
            "6/6 [==============================] - 2s 278ms/step - loss: 1.3458 - accuracy: 0.3401 - top-5-accuracy: 1.0000 - val_loss: 1.4463 - val_accuracy: 0.2338 - val_top-5-accuracy: 1.0000\n",
            "Epoch 38/100\n",
            "6/6 [==============================] - 2s 292ms/step - loss: 1.3278 - accuracy: 0.3430 - top-5-accuracy: 1.0000 - val_loss: 1.4557 - val_accuracy: 0.2597 - val_top-5-accuracy: 1.0000\n",
            "Epoch 39/100\n",
            "6/6 [==============================] - 2s 274ms/step - loss: 1.3387 - accuracy: 0.3763 - top-5-accuracy: 1.0000 - val_loss: 1.4794 - val_accuracy: 0.2468 - val_top-5-accuracy: 1.0000\n",
            "Epoch 40/100\n",
            "6/6 [==============================] - 2s 277ms/step - loss: 1.3461 - accuracy: 0.3300 - top-5-accuracy: 1.0000 - val_loss: 1.4299 - val_accuracy: 0.2987 - val_top-5-accuracy: 1.0000\n",
            "Epoch 41/100\n",
            "6/6 [==============================] - 2s 274ms/step - loss: 1.2962 - accuracy: 0.3734 - top-5-accuracy: 1.0000 - val_loss: 1.4340 - val_accuracy: 0.2468 - val_top-5-accuracy: 1.0000\n",
            "Epoch 42/100\n",
            "6/6 [==============================] - 2s 279ms/step - loss: 1.3114 - accuracy: 0.3763 - top-5-accuracy: 1.0000 - val_loss: 1.4117 - val_accuracy: 0.2338 - val_top-5-accuracy: 1.0000\n",
            "Epoch 43/100\n",
            "6/6 [==============================] - 2s 276ms/step - loss: 1.3157 - accuracy: 0.3965 - top-5-accuracy: 1.0000 - val_loss: 1.4473 - val_accuracy: 0.2468 - val_top-5-accuracy: 1.0000\n",
            "Epoch 44/100\n",
            "6/6 [==============================] - 2s 275ms/step - loss: 1.3075 - accuracy: 0.3560 - top-5-accuracy: 1.0000 - val_loss: 1.4777 - val_accuracy: 0.2468 - val_top-5-accuracy: 1.0000\n",
            "Epoch 45/100\n",
            "6/6 [==============================] - 2s 276ms/step - loss: 1.2709 - accuracy: 0.3936 - top-5-accuracy: 1.0000 - val_loss: 1.4663 - val_accuracy: 0.2208 - val_top-5-accuracy: 1.0000\n",
            "Epoch 46/100\n",
            "6/6 [==============================] - 2s 278ms/step - loss: 1.3143 - accuracy: 0.3763 - top-5-accuracy: 1.0000 - val_loss: 1.4987 - val_accuracy: 0.2468 - val_top-5-accuracy: 1.0000\n",
            "Epoch 47/100\n",
            "6/6 [==============================] - 2s 276ms/step - loss: 1.2918 - accuracy: 0.3806 - top-5-accuracy: 1.0000 - val_loss: 1.4524 - val_accuracy: 0.2857 - val_top-5-accuracy: 1.0000\n",
            "Epoch 48/100\n",
            "6/6 [==============================] - 2s 277ms/step - loss: 1.2950 - accuracy: 0.3719 - top-5-accuracy: 1.0000 - val_loss: 1.4661 - val_accuracy: 0.2857 - val_top-5-accuracy: 1.0000\n",
            "Epoch 49/100\n",
            "6/6 [==============================] - 2s 276ms/step - loss: 1.2857 - accuracy: 0.3676 - top-5-accuracy: 1.0000 - val_loss: 1.4775 - val_accuracy: 0.2468 - val_top-5-accuracy: 1.0000\n",
            "Epoch 50/100\n",
            "6/6 [==============================] - 2s 277ms/step - loss: 1.2692 - accuracy: 0.3878 - top-5-accuracy: 1.0000 - val_loss: 1.5154 - val_accuracy: 0.2727 - val_top-5-accuracy: 1.0000\n",
            "Epoch 51/100\n",
            "6/6 [==============================] - 2s 276ms/step - loss: 1.2892 - accuracy: 0.3821 - top-5-accuracy: 1.0000 - val_loss: 1.5276 - val_accuracy: 0.2857 - val_top-5-accuracy: 1.0000\n",
            "Epoch 52/100\n",
            "6/6 [==============================] - 2s 277ms/step - loss: 1.2754 - accuracy: 0.4009 - top-5-accuracy: 1.0000 - val_loss: 1.5343 - val_accuracy: 0.3117 - val_top-5-accuracy: 1.0000\n",
            "Epoch 53/100\n",
            "6/6 [==============================] - 2s 275ms/step - loss: 1.2502 - accuracy: 0.4009 - top-5-accuracy: 1.0000 - val_loss: 1.4843 - val_accuracy: 0.3377 - val_top-5-accuracy: 1.0000\n",
            "Epoch 54/100\n",
            "6/6 [==============================] - 2s 276ms/step - loss: 1.2466 - accuracy: 0.4009 - top-5-accuracy: 1.0000 - val_loss: 1.4866 - val_accuracy: 0.3117 - val_top-5-accuracy: 1.0000\n",
            "Epoch 55/100\n",
            "6/6 [==============================] - 2s 277ms/step - loss: 1.2366 - accuracy: 0.4457 - top-5-accuracy: 1.0000 - val_loss: 1.5245 - val_accuracy: 0.2468 - val_top-5-accuracy: 1.0000\n",
            "Epoch 56/100\n",
            "6/6 [==============================] - 2s 276ms/step - loss: 1.2663 - accuracy: 0.4096 - top-5-accuracy: 1.0000 - val_loss: 1.4832 - val_accuracy: 0.2857 - val_top-5-accuracy: 1.0000\n",
            "Epoch 57/100\n",
            "6/6 [==============================] - 2s 277ms/step - loss: 1.2546 - accuracy: 0.4182 - top-5-accuracy: 1.0000 - val_loss: 1.4392 - val_accuracy: 0.2987 - val_top-5-accuracy: 1.0000\n",
            "Epoch 58/100\n",
            "6/6 [==============================] - 2s 278ms/step - loss: 1.2152 - accuracy: 0.4313 - top-5-accuracy: 1.0000 - val_loss: 1.5546 - val_accuracy: 0.2468 - val_top-5-accuracy: 1.0000\n",
            "Epoch 59/100\n",
            "6/6 [==============================] - 2s 275ms/step - loss: 1.2345 - accuracy: 0.4428 - top-5-accuracy: 1.0000 - val_loss: 1.4304 - val_accuracy: 0.2727 - val_top-5-accuracy: 1.0000\n",
            "Epoch 60/100\n",
            "6/6 [==============================] - 2s 294ms/step - loss: 1.2287 - accuracy: 0.4486 - top-5-accuracy: 1.0000 - val_loss: 1.5130 - val_accuracy: 0.3247 - val_top-5-accuracy: 1.0000\n",
            "Epoch 61/100\n",
            "6/6 [==============================] - 2s 277ms/step - loss: 1.2355 - accuracy: 0.4356 - top-5-accuracy: 1.0000 - val_loss: 1.5387 - val_accuracy: 0.2857 - val_top-5-accuracy: 1.0000\n",
            "Epoch 62/100\n",
            "6/6 [==============================] - 2s 279ms/step - loss: 1.1842 - accuracy: 0.4342 - top-5-accuracy: 1.0000 - val_loss: 1.6139 - val_accuracy: 0.2857 - val_top-5-accuracy: 1.0000\n",
            "Epoch 63/100\n",
            "6/6 [==============================] - 2s 275ms/step - loss: 1.2126 - accuracy: 0.4255 - top-5-accuracy: 1.0000 - val_loss: 1.5166 - val_accuracy: 0.2597 - val_top-5-accuracy: 1.0000\n",
            "Epoch 64/100\n",
            "6/6 [==============================] - 2s 277ms/step - loss: 1.1926 - accuracy: 0.4631 - top-5-accuracy: 1.0000 - val_loss: 1.5598 - val_accuracy: 0.2338 - val_top-5-accuracy: 1.0000\n",
            "Epoch 65/100\n",
            "6/6 [==============================] - 2s 275ms/step - loss: 1.1618 - accuracy: 0.4718 - top-5-accuracy: 1.0000 - val_loss: 1.6389 - val_accuracy: 0.2727 - val_top-5-accuracy: 1.0000\n",
            "Epoch 66/100\n",
            "6/6 [==============================] - 2s 277ms/step - loss: 1.1550 - accuracy: 0.4645 - top-5-accuracy: 1.0000 - val_loss: 1.5967 - val_accuracy: 0.2857 - val_top-5-accuracy: 1.0000\n",
            "Epoch 67/100\n",
            "6/6 [==============================] - 2s 277ms/step - loss: 1.1465 - accuracy: 0.4761 - top-5-accuracy: 1.0000 - val_loss: 1.6606 - val_accuracy: 0.2468 - val_top-5-accuracy: 1.0000\n",
            "Epoch 68/100\n",
            "6/6 [==============================] - 2s 277ms/step - loss: 1.1475 - accuracy: 0.4863 - top-5-accuracy: 1.0000 - val_loss: 1.6132 - val_accuracy: 0.2338 - val_top-5-accuracy: 1.0000\n",
            "Epoch 69/100\n",
            "6/6 [==============================] - 2s 274ms/step - loss: 1.1891 - accuracy: 0.4660 - top-5-accuracy: 1.0000 - val_loss: 1.6008 - val_accuracy: 0.2338 - val_top-5-accuracy: 1.0000\n",
            "Epoch 70/100\n",
            "6/6 [==============================] - 2s 278ms/step - loss: 1.0972 - accuracy: 0.4949 - top-5-accuracy: 1.0000 - val_loss: 1.6788 - val_accuracy: 0.2987 - val_top-5-accuracy: 1.0000\n",
            "Epoch 71/100\n",
            "6/6 [==============================] - 2s 277ms/step - loss: 1.1278 - accuracy: 0.4949 - top-5-accuracy: 1.0000 - val_loss: 1.6161 - val_accuracy: 0.2078 - val_top-5-accuracy: 1.0000\n",
            "Epoch 72/100\n",
            "6/6 [==============================] - 2s 277ms/step - loss: 1.0682 - accuracy: 0.5282 - top-5-accuracy: 1.0000 - val_loss: 1.7120 - val_accuracy: 0.2857 - val_top-5-accuracy: 1.0000\n",
            "Epoch 73/100\n",
            "6/6 [==============================] - 2s 277ms/step - loss: 1.0751 - accuracy: 0.5384 - top-5-accuracy: 1.0000 - val_loss: 1.7143 - val_accuracy: 0.2338 - val_top-5-accuracy: 1.0000\n",
            "Epoch 74/100\n",
            "6/6 [==============================] - 2s 278ms/step - loss: 1.0796 - accuracy: 0.5282 - top-5-accuracy: 1.0000 - val_loss: 1.6574 - val_accuracy: 0.2597 - val_top-5-accuracy: 1.0000\n",
            "Epoch 75/100\n",
            "6/6 [==============================] - 2s 274ms/step - loss: 1.0634 - accuracy: 0.5514 - top-5-accuracy: 1.0000 - val_loss: 1.7077 - val_accuracy: 0.2597 - val_top-5-accuracy: 1.0000\n",
            "Epoch 76/100\n",
            "6/6 [==============================] - 2s 275ms/step - loss: 0.9844 - accuracy: 0.5774 - top-5-accuracy: 1.0000 - val_loss: 1.7689 - val_accuracy: 0.2468 - val_top-5-accuracy: 1.0000\n",
            "Epoch 77/100\n",
            "6/6 [==============================] - 2s 275ms/step - loss: 0.9687 - accuracy: 0.5687 - top-5-accuracy: 1.0000 - val_loss: 1.9040 - val_accuracy: 0.2208 - val_top-5-accuracy: 1.0000\n",
            "Epoch 78/100\n",
            "6/6 [==============================] - 2s 276ms/step - loss: 1.0877 - accuracy: 0.5166 - top-5-accuracy: 1.0000 - val_loss: 1.7522 - val_accuracy: 0.2208 - val_top-5-accuracy: 1.0000\n",
            "Epoch 79/100\n",
            "6/6 [==============================] - 2s 276ms/step - loss: 1.0081 - accuracy: 0.5441 - top-5-accuracy: 1.0000 - val_loss: 1.8446 - val_accuracy: 0.2727 - val_top-5-accuracy: 1.0000\n",
            "Epoch 80/100\n",
            "6/6 [==============================] - 2s 277ms/step - loss: 1.0115 - accuracy: 0.5615 - top-5-accuracy: 1.0000 - val_loss: 1.8294 - val_accuracy: 0.3117 - val_top-5-accuracy: 1.0000\n",
            "Epoch 81/100\n",
            "6/6 [==============================] - 2s 276ms/step - loss: 0.9683 - accuracy: 0.5832 - top-5-accuracy: 1.0000 - val_loss: 1.6925 - val_accuracy: 0.2597 - val_top-5-accuracy: 1.0000\n",
            "Epoch 82/100\n",
            "6/6 [==============================] - 2s 279ms/step - loss: 0.9765 - accuracy: 0.6078 - top-5-accuracy: 1.0000 - val_loss: 1.7890 - val_accuracy: 0.2338 - val_top-5-accuracy: 1.0000\n",
            "Epoch 83/100\n",
            "6/6 [==============================] - 2s 277ms/step - loss: 0.9727 - accuracy: 0.5904 - top-5-accuracy: 1.0000 - val_loss: 1.6546 - val_accuracy: 0.2727 - val_top-5-accuracy: 1.0000\n",
            "Epoch 84/100\n",
            "6/6 [==============================] - 2s 275ms/step - loss: 0.9864 - accuracy: 0.5673 - top-5-accuracy: 1.0000 - val_loss: 1.7101 - val_accuracy: 0.2727 - val_top-5-accuracy: 1.0000\n",
            "Epoch 85/100\n",
            "6/6 [==============================] - 2s 277ms/step - loss: 0.9400 - accuracy: 0.5977 - top-5-accuracy: 1.0000 - val_loss: 1.7248 - val_accuracy: 0.2338 - val_top-5-accuracy: 1.0000\n",
            "Epoch 86/100\n",
            "6/6 [==============================] - 2s 278ms/step - loss: 0.9491 - accuracy: 0.5977 - top-5-accuracy: 1.0000 - val_loss: 1.8494 - val_accuracy: 0.2338 - val_top-5-accuracy: 1.0000\n",
            "Epoch 87/100\n",
            "6/6 [==============================] - 2s 276ms/step - loss: 0.9293 - accuracy: 0.5904 - top-5-accuracy: 1.0000 - val_loss: 1.9000 - val_accuracy: 0.2468 - val_top-5-accuracy: 1.0000\n",
            "Epoch 88/100\n",
            "6/6 [==============================] - 2s 276ms/step - loss: 0.9494 - accuracy: 0.6006 - top-5-accuracy: 1.0000 - val_loss: 1.7238 - val_accuracy: 0.2597 - val_top-5-accuracy: 1.0000\n",
            "Epoch 89/100\n",
            "6/6 [==============================] - 2s 277ms/step - loss: 0.8398 - accuracy: 0.6628 - top-5-accuracy: 1.0000 - val_loss: 1.9436 - val_accuracy: 0.2468 - val_top-5-accuracy: 1.0000\n",
            "Epoch 90/100\n",
            "6/6 [==============================] - 2s 275ms/step - loss: 0.8417 - accuracy: 0.6310 - top-5-accuracy: 1.0000 - val_loss: 2.0772 - val_accuracy: 0.2987 - val_top-5-accuracy: 1.0000\n",
            "Epoch 91/100\n",
            "6/6 [==============================] - 2s 277ms/step - loss: 0.8263 - accuracy: 0.6556 - top-5-accuracy: 1.0000 - val_loss: 1.9263 - val_accuracy: 0.2597 - val_top-5-accuracy: 1.0000\n",
            "Epoch 92/100\n",
            "6/6 [==============================] - 2s 276ms/step - loss: 0.8396 - accuracy: 0.6816 - top-5-accuracy: 1.0000 - val_loss: 1.9674 - val_accuracy: 0.2597 - val_top-5-accuracy: 1.0000\n",
            "Epoch 93/100\n",
            "6/6 [==============================] - 2s 275ms/step - loss: 0.8537 - accuracy: 0.6498 - top-5-accuracy: 1.0000 - val_loss: 1.8178 - val_accuracy: 0.2468 - val_top-5-accuracy: 1.0000\n",
            "Epoch 94/100\n",
            "6/6 [==============================] - 2s 276ms/step - loss: 0.7979 - accuracy: 0.6614 - top-5-accuracy: 1.0000 - val_loss: 1.8621 - val_accuracy: 0.2857 - val_top-5-accuracy: 1.0000\n",
            "Epoch 95/100\n",
            "6/6 [==============================] - 2s 276ms/step - loss: 0.8288 - accuracy: 0.6614 - top-5-accuracy: 1.0000 - val_loss: 2.0688 - val_accuracy: 0.2727 - val_top-5-accuracy: 1.0000\n",
            "Epoch 96/100\n",
            "6/6 [==============================] - 2s 277ms/step - loss: 0.7497 - accuracy: 0.6990 - top-5-accuracy: 1.0000 - val_loss: 1.9320 - val_accuracy: 0.2597 - val_top-5-accuracy: 1.0000\n",
            "Epoch 97/100\n",
            "6/6 [==============================] - 2s 274ms/step - loss: 0.7875 - accuracy: 0.6686 - top-5-accuracy: 1.0000 - val_loss: 2.0479 - val_accuracy: 0.2597 - val_top-5-accuracy: 1.0000\n",
            "Epoch 98/100\n",
            "6/6 [==============================] - 2s 277ms/step - loss: 0.7479 - accuracy: 0.6874 - top-5-accuracy: 1.0000 - val_loss: 2.0456 - val_accuracy: 0.2857 - val_top-5-accuracy: 1.0000\n",
            "Epoch 99/100\n",
            "6/6 [==============================] - 2s 277ms/step - loss: 0.7349 - accuracy: 0.6990 - top-5-accuracy: 1.0000 - val_loss: 1.9126 - val_accuracy: 0.2727 - val_top-5-accuracy: 1.0000\n",
            "Epoch 100/100\n",
            "6/6 [==============================] - 2s 278ms/step - loss: 0.7650 - accuracy: 0.7091 - top-5-accuracy: 1.0000 - val_loss: 2.0194 - val_accuracy: 0.2597 - val_top-5-accuracy: 1.0000\n",
            "6/6 [==============================] - 0s 51ms/step - loss: 1.3881 - accuracy: 0.2402 - top-5-accuracy: 1.0000\n",
            "Test accuracy: 24.02%\n",
            "Test top 5 accuracy: 100.0%\n"
          ]
        }
      ]
    },
    {
      "cell_type": "code",
      "metadata": {
        "colab": {
          "base_uri": "https://localhost:8080/",
          "height": 295
        },
        "id": "ZCDskxw5qjbw",
        "outputId": "725223b3-49c1-412e-cb5d-e866022819d5"
      },
      "source": [
        "plt.plot(history.history['loss'])\n",
        "plt.plot(history.history['val_loss'])\n",
        "plt.title('Loss vs. epochs')\n",
        "plt.ylabel('Loss')\n",
        "plt.xlabel('Epoch')\n",
        "plt.legend(['Training', 'Validation'], loc='upper right')\n",
        "plt.show()"
      ],
      "execution_count": 21,
      "outputs": [
        {
          "output_type": "display_data",
          "data": {
            "image/png": "[encoded data removed]",
            "text/plain": [
              "<Figure size 432x288 with 1 Axes>"
            ]
          },
          "metadata": {
            "needs_background": "light"
          }
        }
      ]
    },
    {
      "cell_type": "code",
      "metadata": {
        "colab": {
          "base_uri": "https://localhost:8080/",
          "height": 295
        },
        "id": "KhuuhLEmqpA_",
        "outputId": "29ea1651-7b84-4485-bd2e-d003e42d0531"
      },
      "source": [
        "plt.plot(history.history['accuracy'])\n",
        "plt.plot(history.history['val_accuracy'])\n",
        "plt.title('Accuracy vs. epochs')\n",
        "plt.ylabel('Accuracy')\n",
        "plt.xlabel('Epoch')\n",
        "plt.legend(['Training', 'Validation'], loc='upper right')\n",
        "plt.show()"
      ],
      "execution_count": 22,
      "outputs": [
        {
          "output_type": "display_data",
          "data": {
            "image/png": "[encoded data removed]",
            "text/plain": [
              "<Figure size 432x288 with 1 Axes>"
            ]
          },
          "metadata": {
            "needs_background": "light"
          }
        }
      ]
    },
    {
      "cell_type": "code",
      "metadata": {
        "colab": {
          "base_uri": "https://localhost:8080/"
        },
        "id": "3V_s29RLqsUC",
        "outputId": "7588fa4e-6637-4400-b56b-ea2f3bd6b58b"
      },
      "source": [
        "results = vit_classifier.evaluate(test_ds)"
      ],
      "execution_count": 29,
      "outputs": [
        {
          "output_type": "stream",
          "name": "stdout",
          "text": [
            "2/2 [==============================] - 1s 73ms/step - loss: 1.4004 - accuracy: 0.2346 - top-5-accuracy: 1.0000\n"
          ]
        }
      ]
    }
  ]
}